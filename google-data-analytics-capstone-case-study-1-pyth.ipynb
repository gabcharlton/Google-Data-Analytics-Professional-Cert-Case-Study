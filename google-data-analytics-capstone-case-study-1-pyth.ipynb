{
 "cells": [
  {
   "cell_type": "code",
   "execution_count": 49,
   "metadata": {
    "_cell_guid": "b1076dfc-b9ad-4769-8c92-a6c4dae69d19",
    "_uuid": "8f2839f25d086af736a60e9eeb907d3b93b6e0e5",
    "execution": {
     "iopub.execute_input": "2022-06-09T03:16:28.138694Z",
     "iopub.status.busy": "2022-06-09T03:16:28.138215Z",
     "iopub.status.idle": "2022-06-09T03:16:28.154355Z",
     "shell.execute_reply": "2022-06-09T03:16:28.153530Z",
     "shell.execute_reply.started": "2022-06-09T03:16:28.138657Z"
    }
   },
   "outputs": [],
   "source": [
    "# This Python 3 environment comes with many helpful analytics libraries installed\n",
    "# It is defined by the kaggle/python Docker image: https://github.com/kaggle/docker-python\n",
    "# For example, here's several helpful packages to load\n",
    "\n",
    "import numpy as np # linear algebra\n",
    "import pandas as pd # data processing, CSV file I/O (e.g. pd.read_csv)\n",
    "\n",
    "# Input data files are available in the read-only \"../input/\" directory\n",
    "# For example, running this (by clicking run or pressing Shift+Enter) will list all files under the input directory\n",
    "\n",
    "import os\n",
    "for dirname, _, filenames in os.walk('/kaggle/input'):\n",
    "    for filename in filenames:\n",
    "        print(os.path.join(dirname, filename))\n",
    "\n",
    "# You can write up to 20GB to the current directory (/kaggle/working/) that gets preserved as output when you create a version using \"Save & Run All\" \n",
    "# You can also write temporary files to /kaggle/temp/, but they won't be saved outside of the current session"
   ]
  },
  {
   "cell_type": "markdown",
   "metadata": {},
   "source": [
    "# Introduction\n",
    "\n",
    "My name is Gabrielle Charlton, and this notebook represents a summary of my analysis of the last 12 months of [Cyclistic trip data](https://divvy-tripdata.s3.amazonaws.com/index.html). I have completed the steps of Ask, Prepare, Process, Analyze, and Share. These steps were  communicated through Google via the Coursera [Google Data Analytics Professional Certification](https://www.coursera.org/professional-certificates/google-data-analytics), and this project is my **capstone project**. \n",
    "\n",
    "***\n",
    "\n",
    "# Focus\n",
    "\n",
    "The main focus of this analysis was to see the differences and similarities between casual riders and annual members for Cyclistic. This will help drive future business decisions, in the pursuit of increasing the number of annual members, mostly from the current set of casual riders. \n",
    "\n",
    "The graphs made from the data during the guided capstone, using the member types (annual member and casual) as hue, were:\n",
    "\n",
    "* Number of Rides versus Weekday\n",
    "* Average Duration of Rides versus Weekday\n",
    "\n",
    "They were initially cretaed and exported via R Studio. I have brought my work over to jupyter notebooks to have more dynamic visulaization options a  dto expand my analysis, as this language I am most familiar with. \n",
    "\n",
    "*The two previously mentioned graphs have been replicated using Seaborn and Pyplot.*"
   ]
  },
  {
   "cell_type": "code",
   "execution_count": 51,
   "metadata": {
    "execution": {
     "iopub.execute_input": "2022-06-09T03:16:28.156082Z",
     "iopub.status.busy": "2022-06-09T03:16:28.155661Z",
     "iopub.status.idle": "2022-06-09T03:16:28.164991Z",
     "shell.execute_reply": "2022-06-09T03:16:28.164262Z",
     "shell.execute_reply.started": "2022-06-09T03:16:28.156052Z"
    }
   },
   "outputs": [],
   "source": [
    "import pandas as pd\n",
    "import numpy as np\n",
    "import matplotlib.pyplot as plt\n",
    "import seaborn as sns\n",
    "%matplotlib inline"
   ]
  },
  {
   "cell_type": "code",
   "execution_count": 52,
   "metadata": {
    "execution": {
     "iopub.execute_input": "2022-06-09T03:16:28.178375Z",
     "iopub.status.busy": "2022-06-09T03:16:28.177812Z",
     "iopub.status.idle": "2022-06-09T03:16:52.206008Z",
     "shell.execute_reply": "2022-06-09T03:16:52.205112Z",
     "shell.execute_reply.started": "2022-06-09T03:16:28.178343Z"
    }
   },
   "outputs": [],
   "source": [
    "all_trips = pd.read_csv(\"all_trips.csv\") \n",
    "# Reading the version 2 csv file as 'all_trips' rather than 'all_trips_v2' since we will not be using the other one"
   ]
  },
  {
   "cell_type": "code",
   "execution_count": 53,
   "metadata": {
    "execution": {
     "iopub.execute_input": "2022-06-09T03:16:52.208691Z",
     "iopub.status.busy": "2022-06-09T03:16:52.208012Z",
     "iopub.status.idle": "2022-06-09T03:16:52.230072Z",
     "shell.execute_reply": "2022-06-09T03:16:52.229358Z",
     "shell.execute_reply.started": "2022-06-09T03:16:52.208645Z"
    }
   },
   "outputs": [
    {
     "data": {
      "text/html": [
       "<div>\n",
       "<style scoped>\n",
       "    .dataframe tbody tr th:only-of-type {\n",
       "        vertical-align: middle;\n",
       "    }\n",
       "\n",
       "    .dataframe tbody tr th {\n",
       "        vertical-align: top;\n",
       "    }\n",
       "\n",
       "    .dataframe thead th {\n",
       "        text-align: right;\n",
       "    }\n",
       "</style>\n",
       "<table border=\"1\" class=\"dataframe\">\n",
       "  <thead>\n",
       "    <tr style=\"text-align: right;\">\n",
       "      <th></th>\n",
       "      <th>Unnamed: 0</th>\n",
       "      <th>ride_id</th>\n",
       "      <th>rideable_type</th>\n",
       "      <th>started_at</th>\n",
       "      <th>ended_at</th>\n",
       "      <th>start_station_name</th>\n",
       "      <th>start_station_id</th>\n",
       "      <th>end_station_name</th>\n",
       "      <th>end_station_id</th>\n",
       "      <th>member_casual</th>\n",
       "      <th>date</th>\n",
       "      <th>month</th>\n",
       "      <th>day</th>\n",
       "      <th>year</th>\n",
       "      <th>day_of_week</th>\n",
       "      <th>ride_length</th>\n",
       "    </tr>\n",
       "  </thead>\n",
       "  <tbody>\n",
       "    <tr>\n",
       "      <th>0</th>\n",
       "      <td>1</td>\n",
       "      <td>99FEC93BA843FB20</td>\n",
       "      <td>electric_bike</td>\n",
       "      <td>2021-06-13 14:31</td>\n",
       "      <td>2021-06-13 14:34</td>\n",
       "      <td>NaN</td>\n",
       "      <td>NaN</td>\n",
       "      <td>NaN</td>\n",
       "      <td>NaN</td>\n",
       "      <td>member</td>\n",
       "      <td>2021-06-13</td>\n",
       "      <td>6</td>\n",
       "      <td>13</td>\n",
       "      <td>2021</td>\n",
       "      <td>Sunday</td>\n",
       "      <td>180.0</td>\n",
       "    </tr>\n",
       "    <tr>\n",
       "      <th>1</th>\n",
       "      <td>2</td>\n",
       "      <td>06048DCFC8520CAF</td>\n",
       "      <td>electric_bike</td>\n",
       "      <td>2021-06-04 11:18</td>\n",
       "      <td>2021-06-04 11:24</td>\n",
       "      <td>NaN</td>\n",
       "      <td>NaN</td>\n",
       "      <td>NaN</td>\n",
       "      <td>NaN</td>\n",
       "      <td>member</td>\n",
       "      <td>2021-06-04</td>\n",
       "      <td>6</td>\n",
       "      <td>4</td>\n",
       "      <td>2021</td>\n",
       "      <td>Friday</td>\n",
       "      <td>360.0</td>\n",
       "    </tr>\n",
       "    <tr>\n",
       "      <th>2</th>\n",
       "      <td>3</td>\n",
       "      <td>9598066F68045DF2</td>\n",
       "      <td>electric_bike</td>\n",
       "      <td>2021-06-04 9:49</td>\n",
       "      <td>2021-06-04 9:55</td>\n",
       "      <td>NaN</td>\n",
       "      <td>NaN</td>\n",
       "      <td>NaN</td>\n",
       "      <td>NaN</td>\n",
       "      <td>member</td>\n",
       "      <td>2021-06-04</td>\n",
       "      <td>6</td>\n",
       "      <td>4</td>\n",
       "      <td>2021</td>\n",
       "      <td>Friday</td>\n",
       "      <td>360.0</td>\n",
       "    </tr>\n",
       "    <tr>\n",
       "      <th>3</th>\n",
       "      <td>4</td>\n",
       "      <td>B03C0FE48C412214</td>\n",
       "      <td>electric_bike</td>\n",
       "      <td>2021-06-03 19:56</td>\n",
       "      <td>2021-06-03 20:21</td>\n",
       "      <td>NaN</td>\n",
       "      <td>NaN</td>\n",
       "      <td>NaN</td>\n",
       "      <td>NaN</td>\n",
       "      <td>member</td>\n",
       "      <td>2021-06-03</td>\n",
       "      <td>6</td>\n",
       "      <td>3</td>\n",
       "      <td>2021</td>\n",
       "      <td>Thursday</td>\n",
       "      <td>1500.0</td>\n",
       "    </tr>\n",
       "    <tr>\n",
       "      <th>4</th>\n",
       "      <td>5</td>\n",
       "      <td>B9EEA89F8FEE73B7</td>\n",
       "      <td>electric_bike</td>\n",
       "      <td>2021-06-04 14:05</td>\n",
       "      <td>2021-06-04 14:09</td>\n",
       "      <td>NaN</td>\n",
       "      <td>NaN</td>\n",
       "      <td>NaN</td>\n",
       "      <td>NaN</td>\n",
       "      <td>member</td>\n",
       "      <td>2021-06-04</td>\n",
       "      <td>6</td>\n",
       "      <td>4</td>\n",
       "      <td>2021</td>\n",
       "      <td>Friday</td>\n",
       "      <td>240.0</td>\n",
       "    </tr>\n",
       "  </tbody>\n",
       "</table>\n",
       "</div>"
      ],
      "text/plain": [
       "   Unnamed: 0           ride_id  rideable_type        started_at  \\\n",
       "0           1  99FEC93BA843FB20  electric_bike  2021-06-13 14:31   \n",
       "1           2  06048DCFC8520CAF  electric_bike  2021-06-04 11:18   \n",
       "2           3  9598066F68045DF2  electric_bike   2021-06-04 9:49   \n",
       "3           4  B03C0FE48C412214  electric_bike  2021-06-03 19:56   \n",
       "4           5  B9EEA89F8FEE73B7  electric_bike  2021-06-04 14:05   \n",
       "\n",
       "           ended_at start_station_name start_station_id end_station_name  \\\n",
       "0  2021-06-13 14:34                NaN              NaN              NaN   \n",
       "1  2021-06-04 11:24                NaN              NaN              NaN   \n",
       "2   2021-06-04 9:55                NaN              NaN              NaN   \n",
       "3  2021-06-03 20:21                NaN              NaN              NaN   \n",
       "4  2021-06-04 14:09                NaN              NaN              NaN   \n",
       "\n",
       "  end_station_id member_casual        date  month  day  year day_of_week  \\\n",
       "0            NaN        member  2021-06-13      6   13  2021      Sunday   \n",
       "1            NaN        member  2021-06-04      6    4  2021      Friday   \n",
       "2            NaN        member  2021-06-04      6    4  2021      Friday   \n",
       "3            NaN        member  2021-06-03      6    3  2021    Thursday   \n",
       "4            NaN        member  2021-06-04      6    4  2021      Friday   \n",
       "\n",
       "   ride_length  \n",
       "0        180.0  \n",
       "1        360.0  \n",
       "2        360.0  \n",
       "3       1500.0  \n",
       "4        240.0  "
      ]
     },
     "execution_count": 53,
     "metadata": {},
     "output_type": "execute_result"
    }
   ],
   "source": [
    "all_trips.head()"
   ]
  },
  {
   "cell_type": "code",
   "execution_count": 54,
   "metadata": {
    "execution": {
     "iopub.execute_input": "2022-06-09T03:16:52.231467Z",
     "iopub.status.busy": "2022-06-09T03:16:52.231115Z",
     "iopub.status.idle": "2022-06-09T03:16:52.252456Z",
     "shell.execute_reply": "2022-06-09T03:16:52.251800Z",
     "shell.execute_reply.started": "2022-06-09T03:16:52.231436Z"
    }
   },
   "outputs": [
    {
     "data": {
      "text/html": [
       "<div>\n",
       "<style scoped>\n",
       "    .dataframe tbody tr th:only-of-type {\n",
       "        vertical-align: middle;\n",
       "    }\n",
       "\n",
       "    .dataframe tbody tr th {\n",
       "        vertical-align: top;\n",
       "    }\n",
       "\n",
       "    .dataframe thead th {\n",
       "        text-align: right;\n",
       "    }\n",
       "</style>\n",
       "<table border=\"1\" class=\"dataframe\">\n",
       "  <thead>\n",
       "    <tr style=\"text-align: right;\">\n",
       "      <th></th>\n",
       "      <th>Unnamed: 0</th>\n",
       "      <th>ride_id</th>\n",
       "      <th>rideable_type</th>\n",
       "      <th>started_at</th>\n",
       "      <th>ended_at</th>\n",
       "      <th>start_station_name</th>\n",
       "      <th>start_station_id</th>\n",
       "      <th>end_station_name</th>\n",
       "      <th>end_station_id</th>\n",
       "      <th>member_casual</th>\n",
       "      <th>date</th>\n",
       "      <th>month</th>\n",
       "      <th>day</th>\n",
       "      <th>year</th>\n",
       "      <th>day_of_week</th>\n",
       "      <th>ride_length</th>\n",
       "    </tr>\n",
       "  </thead>\n",
       "  <tbody>\n",
       "    <tr>\n",
       "      <th>5860771</th>\n",
       "      <td>5860772</td>\n",
       "      <td>8891BA0053ECEC4F</td>\n",
       "      <td>electric_bike</td>\n",
       "      <td>2022-05-27 22:00</td>\n",
       "      <td>2022-05-27 22:07</td>\n",
       "      <td>Clark St &amp; Newport St</td>\n",
       "      <td>632</td>\n",
       "      <td>NaN</td>\n",
       "      <td>NaN</td>\n",
       "      <td>member</td>\n",
       "      <td>2022-05-27</td>\n",
       "      <td>5</td>\n",
       "      <td>27</td>\n",
       "      <td>2022</td>\n",
       "      <td>Friday</td>\n",
       "      <td>420.0</td>\n",
       "    </tr>\n",
       "    <tr>\n",
       "      <th>5860772</th>\n",
       "      <td>5860773</td>\n",
       "      <td>47D8B5FBCADECFC1</td>\n",
       "      <td>electric_bike</td>\n",
       "      <td>2022-05-15 16:05</td>\n",
       "      <td>2022-05-15 16:44</td>\n",
       "      <td>Clark St &amp; Newport St</td>\n",
       "      <td>632</td>\n",
       "      <td>NaN</td>\n",
       "      <td>NaN</td>\n",
       "      <td>member</td>\n",
       "      <td>2022-05-15</td>\n",
       "      <td>5</td>\n",
       "      <td>15</td>\n",
       "      <td>2022</td>\n",
       "      <td>Sunday</td>\n",
       "      <td>2340.0</td>\n",
       "    </tr>\n",
       "    <tr>\n",
       "      <th>5860773</th>\n",
       "      <td>5860774</td>\n",
       "      <td>AA8D16CF38B40703</td>\n",
       "      <td>electric_bike</td>\n",
       "      <td>2022-05-21 10:10</td>\n",
       "      <td>2022-05-21 10:26</td>\n",
       "      <td>Francisco Ave &amp; Bloomingdale Ave</td>\n",
       "      <td>429</td>\n",
       "      <td>NaN</td>\n",
       "      <td>NaN</td>\n",
       "      <td>casual</td>\n",
       "      <td>2022-05-21</td>\n",
       "      <td>5</td>\n",
       "      <td>21</td>\n",
       "      <td>2022</td>\n",
       "      <td>Saturday</td>\n",
       "      <td>960.0</td>\n",
       "    </tr>\n",
       "    <tr>\n",
       "      <th>5860774</th>\n",
       "      <td>5860775</td>\n",
       "      <td>897EBFD44F329E0A</td>\n",
       "      <td>electric_bike</td>\n",
       "      <td>2022-05-12 7:53</td>\n",
       "      <td>2022-05-12 8:01</td>\n",
       "      <td>Francisco Ave &amp; Bloomingdale Ave</td>\n",
       "      <td>429</td>\n",
       "      <td>NaN</td>\n",
       "      <td>NaN</td>\n",
       "      <td>member</td>\n",
       "      <td>2022-05-12</td>\n",
       "      <td>5</td>\n",
       "      <td>12</td>\n",
       "      <td>2022</td>\n",
       "      <td>Thursday</td>\n",
       "      <td>480.0</td>\n",
       "    </tr>\n",
       "    <tr>\n",
       "      <th>5860775</th>\n",
       "      <td>5860776</td>\n",
       "      <td>AAC23AB89E8A7733</td>\n",
       "      <td>electric_bike</td>\n",
       "      <td>2022-05-11 21:14</td>\n",
       "      <td>2022-05-11 21:18</td>\n",
       "      <td>Clark St &amp; Newport St</td>\n",
       "      <td>632</td>\n",
       "      <td>NaN</td>\n",
       "      <td>NaN</td>\n",
       "      <td>member</td>\n",
       "      <td>2022-05-11</td>\n",
       "      <td>5</td>\n",
       "      <td>11</td>\n",
       "      <td>2022</td>\n",
       "      <td>Wednesday</td>\n",
       "      <td>240.0</td>\n",
       "    </tr>\n",
       "  </tbody>\n",
       "</table>\n",
       "</div>"
      ],
      "text/plain": [
       "         Unnamed: 0           ride_id  rideable_type        started_at  \\\n",
       "5860771     5860772  8891BA0053ECEC4F  electric_bike  2022-05-27 22:00   \n",
       "5860772     5860773  47D8B5FBCADECFC1  electric_bike  2022-05-15 16:05   \n",
       "5860773     5860774  AA8D16CF38B40703  electric_bike  2022-05-21 10:10   \n",
       "5860774     5860775  897EBFD44F329E0A  electric_bike   2022-05-12 7:53   \n",
       "5860775     5860776  AAC23AB89E8A7733  electric_bike  2022-05-11 21:14   \n",
       "\n",
       "                 ended_at                start_station_name start_station_id  \\\n",
       "5860771  2022-05-27 22:07             Clark St & Newport St              632   \n",
       "5860772  2022-05-15 16:44             Clark St & Newport St              632   \n",
       "5860773  2022-05-21 10:26  Francisco Ave & Bloomingdale Ave              429   \n",
       "5860774   2022-05-12 8:01  Francisco Ave & Bloomingdale Ave              429   \n",
       "5860775  2022-05-11 21:18             Clark St & Newport St              632   \n",
       "\n",
       "        end_station_name end_station_id member_casual        date  month  day  \\\n",
       "5860771              NaN            NaN        member  2022-05-27      5   27   \n",
       "5860772              NaN            NaN        member  2022-05-15      5   15   \n",
       "5860773              NaN            NaN        casual  2022-05-21      5   21   \n",
       "5860774              NaN            NaN        member  2022-05-12      5   12   \n",
       "5860775              NaN            NaN        member  2022-05-11      5   11   \n",
       "\n",
       "         year day_of_week  ride_length  \n",
       "5860771  2022      Friday        420.0  \n",
       "5860772  2022      Sunday       2340.0  \n",
       "5860773  2022    Saturday        960.0  \n",
       "5860774  2022    Thursday        480.0  \n",
       "5860775  2022   Wednesday        240.0  "
      ]
     },
     "execution_count": 54,
     "metadata": {},
     "output_type": "execute_result"
    }
   ],
   "source": [
    "all_trips.tail()"
   ]
  },
  {
   "cell_type": "code",
   "execution_count": 55,
   "metadata": {
    "execution": {
     "iopub.execute_input": "2022-06-09T03:16:52.254645Z",
     "iopub.status.busy": "2022-06-09T03:16:52.253986Z",
     "iopub.status.idle": "2022-06-09T03:16:52.551896Z",
     "shell.execute_reply": "2022-06-09T03:16:52.550941Z",
     "shell.execute_reply.started": "2022-06-09T03:16:52.254613Z"
    }
   },
   "outputs": [
    {
     "data": {
      "text/plain": [
       "count    5.860776e+06\n",
       "mean     1.241406e+03\n",
       "std      9.885391e+03\n",
       "min     -7.080000e+03\n",
       "25%      3.600000e+02\n",
       "50%      6.600000e+02\n",
       "75%      1.260000e+03\n",
       "max      3.356640e+06\n",
       "Name: ride_length, dtype: float64"
      ]
     },
     "execution_count": 55,
     "metadata": {},
     "output_type": "execute_result"
    }
   ],
   "source": [
    "all_trips['ride_length'].describe() #ride_length has been pre-processed in R Studio to become seconds"
   ]
  },
  {
   "cell_type": "code",
   "execution_count": 56,
   "metadata": {
    "execution": {
     "iopub.execute_input": "2022-06-09T03:17:23.712687Z",
     "iopub.status.busy": "2022-06-09T03:17:23.712297Z",
     "iopub.status.idle": "2022-06-09T03:17:26.799678Z",
     "shell.execute_reply": "2022-06-09T03:17:26.798588Z",
     "shell.execute_reply.started": "2022-06-09T03:17:23.712656Z"
    }
   },
   "outputs": [],
   "source": [
    "neg_ride_lengths = all_trips[all_trips['ride_length'] < 0].index\n",
    "all_trips.drop(neg_ride_lengths, inplace=True)"
   ]
  },
  {
   "cell_type": "code",
   "execution_count": 57,
   "metadata": {
    "execution": {
     "iopub.execute_input": "2022-06-09T03:18:26.882334Z",
     "iopub.status.busy": "2022-06-09T03:18:26.881913Z",
     "iopub.status.idle": "2022-06-09T03:18:27.190184Z",
     "shell.execute_reply": "2022-06-09T03:18:27.189167Z",
     "shell.execute_reply.started": "2022-06-09T03:18:26.882298Z"
    }
   },
   "outputs": [
    {
     "data": {
      "text/plain": [
       "count    5.860691e+06\n",
       "mean     1.241478e+03\n",
       "std      9.885439e+03\n",
       "min      0.000000e+00\n",
       "25%      3.600000e+02\n",
       "50%      6.600000e+02\n",
       "75%      1.260000e+03\n",
       "max      3.356640e+06\n",
       "Name: ride_length, dtype: float64"
      ]
     },
     "execution_count": 57,
     "metadata": {},
     "output_type": "execute_result"
    }
   ],
   "source": [
    "all_trips['ride_length'].describe() # Dropping negative ride_length values like in Step 3"
   ]
  },
  {
   "cell_type": "code",
   "execution_count": 58,
   "metadata": {
    "execution": {
     "iopub.execute_input": "2022-06-09T04:43:52.580853Z",
     "iopub.status.busy": "2022-06-09T04:43:52.580379Z",
     "iopub.status.idle": "2022-06-09T04:43:53.921284Z",
     "shell.execute_reply": "2022-06-09T04:43:53.920309Z",
     "shell.execute_reply.started": "2022-06-09T04:43:52.580816Z"
    }
   },
   "outputs": [
    {
     "name": "stdout",
     "output_type": "stream",
     "text": [
      "                           ride_length\n",
      "                                  mean\n",
      "member_casual day_of_week             \n",
      "casual        Friday       1726.774331\n",
      "              Monday       1831.645016\n",
      "              Saturday     2010.456019\n",
      "              Sunday       2121.039637\n",
      "              Thursday     1662.460031\n",
      "              Tuesday      1574.554944\n",
      "              Wednesday    1599.438152\n",
      "member        Friday        766.944556\n",
      "              Monday        758.746750\n",
      "              Saturday      877.438917\n",
      "              Sunday        887.985224\n",
      "              Thursday      746.551736\n",
      "              Tuesday       736.730786\n",
      "              Wednesday     738.567312\n"
     ]
    }
   ],
   "source": [
    "avg_ride_length = all_trips.groupby(['member_casual','day_of_week']).agg({'ride_length': ['mean']})\n",
    "# See the average ride time by each day for members vs casual users\n",
    "print(avg_ride_length)"
   ]
  },
  {
   "cell_type": "code",
   "execution_count": 59,
   "metadata": {
    "execution": {
     "iopub.execute_input": "2022-06-09T05:04:08.822243Z",
     "iopub.status.busy": "2022-06-09T05:04:08.821816Z",
     "iopub.status.idle": "2022-06-09T05:04:09.835886Z",
     "shell.execute_reply": "2022-06-09T05:04:09.835128Z",
     "shell.execute_reply.started": "2022-06-09T05:04:08.822210Z"
    }
   },
   "outputs": [
    {
     "data": {
      "text/plain": [
       "classic_bike     3217700\n",
       "electric_bike    2368549\n",
       "docked_bike       274442\n",
       "Name: rideable_type, dtype: int64"
      ]
     },
     "execution_count": 59,
     "metadata": {},
     "output_type": "execute_result"
    }
   ],
   "source": [
    "all_trips['rideable_type'].value_counts()"
   ]
  },
  {
   "cell_type": "code",
   "execution_count": 60,
   "metadata": {
    "execution": {
     "iopub.execute_input": "2022-06-09T05:05:26.053838Z",
     "iopub.status.busy": "2022-06-09T05:05:26.052663Z",
     "iopub.status.idle": "2022-06-09T05:05:27.075265Z",
     "shell.execute_reply": "2022-06-09T05:05:27.074467Z",
     "shell.execute_reply.started": "2022-06-09T05:05:26.053789Z"
    }
   },
   "outputs": [
    {
     "data": {
      "text/plain": [
       "member    3300875\n",
       "casual    2559816\n",
       "Name: member_casual, dtype: int64"
      ]
     },
     "execution_count": 60,
     "metadata": {},
     "output_type": "execute_result"
    }
   ],
   "source": [
    "all_trips['member_casual'].value_counts()"
   ]
  },
  {
   "cell_type": "code",
   "execution_count": 61,
   "metadata": {},
   "outputs": [
    {
     "data": {
      "image/png": "[encoded data removed]",
      "text/plain": [
       "<Figure size 432x288 with 1 Axes>"
      ]
     },
     "metadata": {
      "needs_background": "light"
     },
     "output_type": "display_data"
    }
   ],
   "source": [
    "sns.countplot(x = 'rideable_type', data = all_trips, hue='member_casual')\n",
    "plt.show()"
   ]
  },
  {
   "cell_type": "markdown",
   "metadata": {},
   "source": [
    "From this anlysis, It looks like annual members tend to not borrow bikes from docking stations, and prefer first classic bikes, and second to that, electric bikes. This can be related to the purpose of bike rentals. \n",
    "\n",
    "To further analyze this behaviour, I will look at the days of the week frequented by the various members."
   ]
  },
  {
   "cell_type": "code",
   "execution_count": 62,
   "metadata": {
    "execution": {
     "iopub.execute_input": "2022-06-09T05:51:19.064239Z",
     "iopub.status.busy": "2022-06-09T05:51:19.063085Z",
     "iopub.status.idle": "2022-06-09T05:51:31.516213Z",
     "shell.execute_reply": "2022-06-09T05:51:31.515552Z",
     "shell.execute_reply.started": "2022-06-09T05:51:19.064181Z"
    }
   },
   "outputs": [
    {
     "data": {
      "image/png": "[encoded data removed]",
      "text/plain": [
       "<Figure size 432x288 with 1 Axes>"
      ]
     },
     "metadata": {
      "needs_background": "light"
     },
     "output_type": "display_data"
    }
   ],
   "source": [
    "sns.countplot(x='day_of_week',data = all_trips, hue='member_casual')\n",
    "plt.show()"
   ]
  },
  {
   "cell_type": "markdown",
   "metadata": {},
   "source": [
    "From our graph, we can see that *the two most frequented days for casual members are Saturday and Sunday*. What is interesting is that *these are the two least frequented days for annual members*. The *two most frequented days for annual members, however, happens to be Tuesday and Wednesday*. These days happen to be *the least frequented days of casual members*.\n",
    "\n",
    "What I have deducted is that **there is an inverse relationship to the behaviours of casual and annual members during the week**."
   ]
  },
  {
   "cell_type": "code",
   "execution_count": 63,
   "metadata": {},
   "outputs": [
    {
     "data": {
      "text/html": [
       "<div>\n",
       "<style scoped>\n",
       "    .dataframe tbody tr th:only-of-type {\n",
       "        vertical-align: middle;\n",
       "    }\n",
       "\n",
       "    .dataframe tbody tr th {\n",
       "        vertical-align: top;\n",
       "    }\n",
       "\n",
       "    .dataframe thead th {\n",
       "        text-align: right;\n",
       "    }\n",
       "</style>\n",
       "<table border=\"1\" class=\"dataframe\">\n",
       "  <thead>\n",
       "    <tr style=\"text-align: right;\">\n",
       "      <th></th>\n",
       "      <th>Unnamed: 0</th>\n",
       "      <th>month</th>\n",
       "      <th>day</th>\n",
       "      <th>year</th>\n",
       "      <th>ride_length</th>\n",
       "    </tr>\n",
       "  </thead>\n",
       "  <tbody>\n",
       "    <tr>\n",
       "      <th>count</th>\n",
       "      <td>2.559816e+06</td>\n",
       "      <td>2.559816e+06</td>\n",
       "      <td>2.559816e+06</td>\n",
       "      <td>2.559816e+06</td>\n",
       "      <td>2.559816e+06</td>\n",
       "    </tr>\n",
       "    <tr>\n",
       "      <th>mean</th>\n",
       "      <td>2.675134e+06</td>\n",
       "      <td>7.312510e+00</td>\n",
       "      <td>1.552865e+01</td>\n",
       "      <td>2.021210e+03</td>\n",
       "      <td>1.833054e+03</td>\n",
       "    </tr>\n",
       "    <tr>\n",
       "      <th>std</th>\n",
       "      <td>1.693028e+06</td>\n",
       "      <td>2.223667e+00</td>\n",
       "      <td>8.690177e+00</td>\n",
       "      <td>4.070540e-01</td>\n",
       "      <td>1.482091e+04</td>\n",
       "    </tr>\n",
       "    <tr>\n",
       "      <th>min</th>\n",
       "      <td>2.500000e+01</td>\n",
       "      <td>1.000000e+00</td>\n",
       "      <td>1.000000e+00</td>\n",
       "      <td>2.021000e+03</td>\n",
       "      <td>0.000000e+00</td>\n",
       "    </tr>\n",
       "    <tr>\n",
       "      <th>25%</th>\n",
       "      <td>1.249606e+06</td>\n",
       "      <td>6.000000e+00</td>\n",
       "      <td>8.000000e+00</td>\n",
       "      <td>2.021000e+03</td>\n",
       "      <td>5.400000e+02</td>\n",
       "    </tr>\n",
       "    <tr>\n",
       "      <th>50%</th>\n",
       "      <td>2.483672e+06</td>\n",
       "      <td>7.000000e+00</td>\n",
       "      <td>1.500000e+01</td>\n",
       "      <td>2.021000e+03</td>\n",
       "      <td>9.000000e+02</td>\n",
       "    </tr>\n",
       "    <tr>\n",
       "      <th>75%</th>\n",
       "      <td>4.002728e+06</td>\n",
       "      <td>9.000000e+00</td>\n",
       "      <td>2.300000e+01</td>\n",
       "      <td>2.021000e+03</td>\n",
       "      <td>1.680000e+03</td>\n",
       "    </tr>\n",
       "    <tr>\n",
       "      <th>max</th>\n",
       "      <td>5.860774e+06</td>\n",
       "      <td>1.200000e+01</td>\n",
       "      <td>3.100000e+01</td>\n",
       "      <td>2.022000e+03</td>\n",
       "      <td>3.356640e+06</td>\n",
       "    </tr>\n",
       "  </tbody>\n",
       "</table>\n",
       "</div>"
      ],
      "text/plain": [
       "         Unnamed: 0         month           day          year   ride_length\n",
       "count  2.559816e+06  2.559816e+06  2.559816e+06  2.559816e+06  2.559816e+06\n",
       "mean   2.675134e+06  7.312510e+00  1.552865e+01  2.021210e+03  1.833054e+03\n",
       "std    1.693028e+06  2.223667e+00  8.690177e+00  4.070540e-01  1.482091e+04\n",
       "min    2.500000e+01  1.000000e+00  1.000000e+00  2.021000e+03  0.000000e+00\n",
       "25%    1.249606e+06  6.000000e+00  8.000000e+00  2.021000e+03  5.400000e+02\n",
       "50%    2.483672e+06  7.000000e+00  1.500000e+01  2.021000e+03  9.000000e+02\n",
       "75%    4.002728e+06  9.000000e+00  2.300000e+01  2.021000e+03  1.680000e+03\n",
       "max    5.860774e+06  1.200000e+01  3.100000e+01  2.022000e+03  3.356640e+06"
      ]
     },
     "execution_count": 63,
     "metadata": {},
     "output_type": "execute_result"
    }
   ],
   "source": [
    "all_trips[all_trips['member_casual'] == 'casual'].describe()"
   ]
  },
  {
   "cell_type": "markdown",
   "metadata": {},
   "source": [
    "This describe function tells us that the average month of use for casual riders is July, with an average ride length of 1833 seconds (30.55 minutes). However, the standard deviation is high (1.48e+04 seconds), due to the varying of ride lengths between, days, months, and bike types. This is can be seen with the lowest 25% of ride lengths being 540 seconds (9 minutes), and the range of 0% to 75% of ride lengths increasing to 1680 seconds (28 minutes). We can also look at the minumum and maxium values, where the minimum ride length was 0 seconds, and the maximum ride length was 3356640 seconds (38.85 days!). \n",
    "\n",
    "This means we need to break down over analysis further into the various scenrios that may cause the deviation."
   ]
  },
  {
   "cell_type": "code",
   "execution_count": 64,
   "metadata": {
    "scrolled": true
   },
   "outputs": [
    {
     "data": {
      "text/html": [
       "<div>\n",
       "<style scoped>\n",
       "    .dataframe tbody tr th:only-of-type {\n",
       "        vertical-align: middle;\n",
       "    }\n",
       "\n",
       "    .dataframe tbody tr th {\n",
       "        vertical-align: top;\n",
       "    }\n",
       "\n",
       "    .dataframe thead th {\n",
       "        text-align: right;\n",
       "    }\n",
       "</style>\n",
       "<table border=\"1\" class=\"dataframe\">\n",
       "  <thead>\n",
       "    <tr style=\"text-align: right;\">\n",
       "      <th></th>\n",
       "      <th>Unnamed: 0</th>\n",
       "      <th>month</th>\n",
       "      <th>day</th>\n",
       "      <th>year</th>\n",
       "      <th>ride_length</th>\n",
       "    </tr>\n",
       "  </thead>\n",
       "  <tbody>\n",
       "    <tr>\n",
       "      <th>count</th>\n",
       "      <td>3.300875e+06</td>\n",
       "      <td>3.300875e+06</td>\n",
       "      <td>3.300875e+06</td>\n",
       "      <td>3.300875e+06</td>\n",
       "      <td>3.300875e+06</td>\n",
       "    </tr>\n",
       "    <tr>\n",
       "      <th>mean</th>\n",
       "      <td>3.128326e+06</td>\n",
       "      <td>7.193230e+00</td>\n",
       "      <td>1.554179e+01</td>\n",
       "      <td>2.021295e+03</td>\n",
       "      <td>7.827126e+02</td>\n",
       "    </tr>\n",
       "    <tr>\n",
       "      <th>std</th>\n",
       "      <td>1.664233e+06</td>\n",
       "      <td>2.817712e+00</td>\n",
       "      <td>8.687175e+00</td>\n",
       "      <td>4.559229e-01</td>\n",
       "      <td>1.636442e+03</td>\n",
       "    </tr>\n",
       "    <tr>\n",
       "      <th>min</th>\n",
       "      <td>1.000000e+00</td>\n",
       "      <td>1.000000e+00</td>\n",
       "      <td>1.000000e+00</td>\n",
       "      <td>2.021000e+03</td>\n",
       "      <td>0.000000e+00</td>\n",
       "    </tr>\n",
       "    <tr>\n",
       "      <th>25%</th>\n",
       "      <td>1.747929e+06</td>\n",
       "      <td>5.000000e+00</td>\n",
       "      <td>8.000000e+00</td>\n",
       "      <td>2.021000e+03</td>\n",
       "      <td>3.000000e+02</td>\n",
       "    </tr>\n",
       "    <tr>\n",
       "      <th>50%</th>\n",
       "      <td>3.326549e+06</td>\n",
       "      <td>7.000000e+00</td>\n",
       "      <td>1.500000e+01</td>\n",
       "      <td>2.021000e+03</td>\n",
       "      <td>5.400000e+02</td>\n",
       "    </tr>\n",
       "    <tr>\n",
       "      <th>75%</th>\n",
       "      <td>4.531648e+06</td>\n",
       "      <td>9.000000e+00</td>\n",
       "      <td>2.300000e+01</td>\n",
       "      <td>2.022000e+03</td>\n",
       "      <td>9.600000e+02</td>\n",
       "    </tr>\n",
       "    <tr>\n",
       "      <th>max</th>\n",
       "      <td>5.860776e+06</td>\n",
       "      <td>1.200000e+01</td>\n",
       "      <td>3.100000e+01</td>\n",
       "      <td>2.022000e+03</td>\n",
       "      <td>9.000000e+04</td>\n",
       "    </tr>\n",
       "  </tbody>\n",
       "</table>\n",
       "</div>"
      ],
      "text/plain": [
       "         Unnamed: 0         month           day          year   ride_length\n",
       "count  3.300875e+06  3.300875e+06  3.300875e+06  3.300875e+06  3.300875e+06\n",
       "mean   3.128326e+06  7.193230e+00  1.554179e+01  2.021295e+03  7.827126e+02\n",
       "std    1.664233e+06  2.817712e+00  8.687175e+00  4.559229e-01  1.636442e+03\n",
       "min    1.000000e+00  1.000000e+00  1.000000e+00  2.021000e+03  0.000000e+00\n",
       "25%    1.747929e+06  5.000000e+00  8.000000e+00  2.021000e+03  3.000000e+02\n",
       "50%    3.326549e+06  7.000000e+00  1.500000e+01  2.021000e+03  5.400000e+02\n",
       "75%    4.531648e+06  9.000000e+00  2.300000e+01  2.022000e+03  9.600000e+02\n",
       "max    5.860776e+06  1.200000e+01  3.100000e+01  2.022000e+03  9.000000e+04"
      ]
     },
     "execution_count": 64,
     "metadata": {},
     "output_type": "execute_result"
    }
   ],
   "source": [
    "all_trips[all_trips['member_casual'] == 'member'].describe()"
   ]
  },
  {
   "cell_type": "markdown",
   "metadata": {},
   "source": [
    "This describe function tells us that the average month of use for annual members is July, with an average ride length of 782.7 seconds (13 minutes). However, the standard deviation is also high (1.636442e+03 seconds), due to the varying of ride lengths between, days, months, and bike types. This is can be seen with the lowest 25% of ride lengths being 300 seconds (5 minutes), and the range of 0% to 75% of ride lengths increasing to 960 seconds (16 minutes). We can also look at the minumum and maxium values, where the minimum ride length was 0 seconds, and the maximum ride length was 90000 seconds (25 hours/ 1 day and 1 hour). Although this is max value much less than the ride lnegth of casual riders,it shows the possiblity of crossover ebtween casual riders and annual members.\n",
    "\n",
    "This means we need to break down over analysis further into the various scenarios and look for any crossover betwwne teh two groups."
   ]
  },
  {
   "cell_type": "code",
   "execution_count": 65,
   "metadata": {
    "execution": {
     "iopub.execute_input": "2022-06-09T05:51:31.518316Z",
     "iopub.status.busy": "2022-06-09T05:51:31.517449Z",
     "iopub.status.idle": "2022-06-09T05:51:31.521663Z",
     "shell.execute_reply": "2022-06-09T05:51:31.520849Z",
     "shell.execute_reply.started": "2022-06-09T05:51:31.518280Z"
    }
   },
   "outputs": [
    {
     "data": {
      "image/png": "[encoded data removed]",
      "text/plain": [
       "<Figure size 540x360 with 3 Axes>"
      ]
     },
     "metadata": {
      "needs_background": "light"
     },
     "output_type": "display_data"
    }
   ],
   "source": [
    "sns.catplot(x = 'ride_length',data = all_trips, col='rideable_type',\n",
    "           aspect=0.5)\n",
    "plt.show()"
   ]
  },
  {
   "cell_type": "markdown",
   "metadata": {},
   "source": [
    "**Docked bikes seem to have the highest ride lengths out of all three bikes.** As a quick refresher, *docked bikes are practically only used by casual riders*. In order to truly understand how to convert casual riders into annual members, we will need to look at how casual riders are using docked bikes for their trips. "
   ]
  },
  {
   "cell_type": "code",
   "execution_count": 66,
   "metadata": {},
   "outputs": [
    {
     "data": {
      "image/png": "[encoded data removed]",
      "text/plain": [
       "<Figure size 432x288 with 1 Axes>"
      ]
     },
     "metadata": {
      "needs_background": "light"
     },
     "output_type": "display_data"
    }
   ],
   "source": [
    "sns.countplot(x='day_of_week',data = all_trips[all_trips['member_casual'] == 'casual'], hue='rideable_type')\n",
    "plt.show()"
   ]
  },
  {
   "cell_type": "code",
   "execution_count": 67,
   "metadata": {},
   "outputs": [
    {
     "data": {
      "image/png": "[encoded data removed]",
      "text/plain": [
       "<Figure size 432x288 with 1 Axes>"
      ]
     },
     "metadata": {
      "needs_background": "light"
     },
     "output_type": "display_data"
    }
   ],
   "source": [
    "sns.countplot(x='day_of_week',data = all_trips[all_trips['member_casual'] == 'member'], hue='rideable_type')\n",
    "plt.show()"
   ]
  },
  {
   "cell_type": "markdown",
   "metadata": {},
   "source": [
    "What this graph is telling us is that **Saturday and Sunday are the days most used by casual members for all bike types**, yet docked bikes are the least used bikes out of all the bike types. \n",
    "\n",
    "If we want to focus on the most frequented bike type used by both annual members and casual members, we can shift our focus onto classic bikes."
   ]
  },
  {
   "cell_type": "code",
   "execution_count": 68,
   "metadata": {},
   "outputs": [
    {
     "data": {
      "image/png": "[encoded data removed]",
      "text/plain": [
       "<Figure size 432x288 with 1 Axes>"
      ]
     },
     "metadata": {
      "needs_background": "light"
     },
     "output_type": "display_data"
    }
   ],
   "source": [
    "sns.barplot(x='day_of_week', y='ride_length', \n",
    "            data = all_trips[all_trips['rideable_type'] == 'classic_bike'], \n",
    "            hue='member_casual')\n",
    "plt.show()"
   ]
  },
  {
   "cell_type": "markdown",
   "metadata": {},
   "source": [
    "Despite Sunday being the least frequented in the count of annual members, the length of rides is the highest on Sunday. Sunday is the second highest frequented day for casual riders, but has the longest ride length. So the classic bike crossover day for both member types seems to be Sunday, since casual members:\n",
    "* tend to have longer rides\n",
    "* frequent Sunday, Saturday and Friday the most, (in respective order)\n",
    "* highest frequented bike type is classic\n",
    "\n",
    "and annual members:\n",
    "* longest ride lengths are on Sunday, Saturday and Monday (in respective order)\n",
    "* highest frequented bike type is classic\n",
    "\n",
    "**Focusing classic bike marketing toward casual riders in an effort to convert them to annual members could be a good area to try, specifically on Sunday and Saturday.** \n",
    "\n",
    "*Docked bikes wouldn't have been a good campaign, simply because annual mebers tend to not use docked bikes.*"
   ]
  },
  {
   "cell_type": "code",
   "execution_count": 69,
   "metadata": {},
   "outputs": [
    {
     "data": {
      "image/png": "[encoded data removed]",
      "text/plain": [
       "<Figure size 432x288 with 1 Axes>"
      ]
     },
     "metadata": {
      "needs_background": "light"
     },
     "output_type": "display_data"
    }
   ],
   "source": [
    "sns.barplot(x='day_of_week', y='ride_length', \n",
    "            data = all_trips[all_trips['rideable_type'] == 'electric_bike'], \n",
    "            hue='member_casual')\n",
    "plt.show()"
   ]
  },
  {
   "cell_type": "markdown",
   "metadata": {},
   "source": [
    "Again, despit Sunday being the least frequented in the count of annual members, the length of rides is the highest on Sunday. Sunday is the second highest frequented day for casual riders, but has the longest ride length. So the electric bike crossover day for both member types seems to be Sunday as well. \n",
    "\n",
    "**Focusing electric and classical bike marketing toward casual riders in an effort to convert them to annual members could be a good area to try, specifically on Sunday and Saturday.** \n",
    "\n",
    "*Once again, docked bikes wouldn't have been a good campaign, simply because annual mebers tend to not use docked bikes.*"
   ]
  },
  {
   "cell_type": "markdown",
   "metadata": {},
   "source": [
    "Now I will analyze ride lengths to find the relationship between casual riders and annual members for each month. "
   ]
  },
  {
   "cell_type": "code",
   "execution_count": 70,
   "metadata": {},
   "outputs": [
    {
     "data": {
      "image/png": "[encoded data removed]",
      "text/plain": [
       "<Figure size 432x288 with 1 Axes>"
      ]
     },
     "metadata": {
      "needs_background": "light"
     },
     "output_type": "display_data"
    }
   ],
   "source": [
    "sns.lineplot(x='month', y='ride_length', data=all_trips)\n",
    "plt.show()"
   ]
  },
  {
   "cell_type": "code",
   "execution_count": 71,
   "metadata": {},
   "outputs": [
    {
     "data": {
      "image/png": "[encoded data removed]",
      "text/plain": [
       "<Figure size 432x288 with 1 Axes>"
      ]
     },
     "metadata": {
      "needs_background": "light"
     },
     "output_type": "display_data"
    }
   ],
   "source": [
    "sns.lineplot(x='month', y='ride_length', data=all_trips, hue=all_trips['member_casual'])\n",
    "plt.show()"
   ]
  },
  {
   "cell_type": "code",
   "execution_count": 72,
   "metadata": {},
   "outputs": [
    {
     "data": {
      "image/png": "[encoded data removed]",
      "text/plain": [
       "<Figure size 432x288 with 1 Axes>"
      ]
     },
     "metadata": {
      "needs_background": "light"
     },
     "output_type": "display_data"
    }
   ],
   "source": [
    "sns.lineplot(x='month', y='ride_length', \n",
    "             data=all_trips[all_trips['member_casual'] == 'casual'], \n",
    "             hue=all_trips['rideable_type'])\n",
    "plt.show()"
   ]
  },
  {
   "cell_type": "markdown",
   "metadata": {},
   "source": [
    "This tells us that the highest amount of ride length throughout the year was for docked bikes. This coincides with what we've previously stated. However, since the standard deviation between docked bike usage and the other bike types, I will exclude this value from the dataframe to get a better look at classic and electric bike usage. "
   ]
  },
  {
   "cell_type": "code",
   "execution_count": 73,
   "metadata": {},
   "outputs": [
    {
     "data": {
      "text/html": [
       "<div>\n",
       "<style scoped>\n",
       "    .dataframe tbody tr th:only-of-type {\n",
       "        vertical-align: middle;\n",
       "    }\n",
       "\n",
       "    .dataframe tbody tr th {\n",
       "        vertical-align: top;\n",
       "    }\n",
       "\n",
       "    .dataframe thead th {\n",
       "        text-align: right;\n",
       "    }\n",
       "</style>\n",
       "<table border=\"1\" class=\"dataframe\">\n",
       "  <thead>\n",
       "    <tr style=\"text-align: right;\">\n",
       "      <th></th>\n",
       "      <th>Unnamed: 0</th>\n",
       "      <th>month</th>\n",
       "      <th>day</th>\n",
       "      <th>year</th>\n",
       "      <th>ride_length</th>\n",
       "    </tr>\n",
       "  </thead>\n",
       "  <tbody>\n",
       "    <tr>\n",
       "      <th>count</th>\n",
       "      <td>5.586249e+06</td>\n",
       "      <td>5.586249e+06</td>\n",
       "      <td>5.586249e+06</td>\n",
       "      <td>5.586249e+06</td>\n",
       "      <td>5.586249e+06</td>\n",
       "    </tr>\n",
       "    <tr>\n",
       "      <th>mean</th>\n",
       "      <td>2.957841e+06</td>\n",
       "      <td>7.247969e+00</td>\n",
       "      <td>1.555428e+01</td>\n",
       "      <td>2.021261e+03</td>\n",
       "      <td>1.057434e+03</td>\n",
       "    </tr>\n",
       "    <tr>\n",
       "      <th>std</th>\n",
       "      <td>1.687302e+06</td>\n",
       "      <td>2.600876e+00</td>\n",
       "      <td>8.690693e+00</td>\n",
       "      <td>4.394047e-01</td>\n",
       "      <td>2.672799e+03</td>\n",
       "    </tr>\n",
       "    <tr>\n",
       "      <th>min</th>\n",
       "      <td>1.000000e+00</td>\n",
       "      <td>1.000000e+00</td>\n",
       "      <td>1.000000e+00</td>\n",
       "      <td>2.021000e+03</td>\n",
       "      <td>0.000000e+00</td>\n",
       "    </tr>\n",
       "    <tr>\n",
       "      <th>25%</th>\n",
       "      <td>1.503719e+06</td>\n",
       "      <td>5.000000e+00</td>\n",
       "      <td>8.000000e+00</td>\n",
       "      <td>2.021000e+03</td>\n",
       "      <td>3.600000e+02</td>\n",
       "    </tr>\n",
       "    <tr>\n",
       "      <th>50%</th>\n",
       "      <td>2.980813e+06</td>\n",
       "      <td>7.000000e+00</td>\n",
       "      <td>1.500000e+01</td>\n",
       "      <td>2.021000e+03</td>\n",
       "      <td>6.600000e+02</td>\n",
       "    </tr>\n",
       "    <tr>\n",
       "      <th>75%</th>\n",
       "      <td>4.415754e+06</td>\n",
       "      <td>9.000000e+00</td>\n",
       "      <td>2.300000e+01</td>\n",
       "      <td>2.022000e+03</td>\n",
       "      <td>1.140000e+03</td>\n",
       "    </tr>\n",
       "    <tr>\n",
       "      <th>max</th>\n",
       "      <td>5.860776e+06</td>\n",
       "      <td>1.200000e+01</td>\n",
       "      <td>3.100000e+01</td>\n",
       "      <td>2.022000e+03</td>\n",
       "      <td>9.360000e+04</td>\n",
       "    </tr>\n",
       "  </tbody>\n",
       "</table>\n",
       "</div>"
      ],
      "text/plain": [
       "         Unnamed: 0         month           day          year   ride_length\n",
       "count  5.586249e+06  5.586249e+06  5.586249e+06  5.586249e+06  5.586249e+06\n",
       "mean   2.957841e+06  7.247969e+00  1.555428e+01  2.021261e+03  1.057434e+03\n",
       "std    1.687302e+06  2.600876e+00  8.690693e+00  4.394047e-01  2.672799e+03\n",
       "min    1.000000e+00  1.000000e+00  1.000000e+00  2.021000e+03  0.000000e+00\n",
       "25%    1.503719e+06  5.000000e+00  8.000000e+00  2.021000e+03  3.600000e+02\n",
       "50%    2.980813e+06  7.000000e+00  1.500000e+01  2.021000e+03  6.600000e+02\n",
       "75%    4.415754e+06  9.000000e+00  2.300000e+01  2.022000e+03  1.140000e+03\n",
       "max    5.860776e+06  1.200000e+01  3.100000e+01  2.022000e+03  9.360000e+04"
      ]
     },
     "execution_count": 73,
     "metadata": {},
     "output_type": "execute_result"
    }
   ],
   "source": [
    "no_dock_cas = all_trips[all_trips.rideable_type != 'docked_bike']\n",
    "no_dock_cas.describe()"
   ]
  },
  {
   "cell_type": "code",
   "execution_count": 74,
   "metadata": {},
   "outputs": [
    {
     "data": {
      "image/png": "[encoded data removed]",
      "text/plain": [
       "<Figure size 432x288 with 1 Axes>"
      ]
     },
     "metadata": {
      "needs_background": "light"
     },
     "output_type": "display_data"
    }
   ],
   "source": [
    "sns.lineplot(x='month', y='ride_length', \n",
    "             data=no_dock_cas[no_dock_cas['member_casual'] == 'casual'], \n",
    "             hue=no_dock_cas['rideable_type'])\n",
    "plt.show()"
   ]
  },
  {
   "cell_type": "code",
   "execution_count": 75,
   "metadata": {},
   "outputs": [
    {
     "data": {
      "image/png": "[encoded data removed]",
      "text/plain": [
       "<Figure size 432x288 with 1 Axes>"
      ]
     },
     "metadata": {
      "needs_background": "light"
     },
     "output_type": "display_data"
    }
   ],
   "source": [
    "sns.lineplot(x='month', y='ride_length', data=all_trips[all_trips['member_casual'] == 'member'], hue=all_trips['rideable_type'])\n",
    "plt.show()"
   ]
  },
  {
   "cell_type": "markdown",
   "metadata": {},
   "source": [
    "For both, the most frequented month is June, yet the ride length variation between the months seem to deviate more with casual riders rather than annual members. On closer inspection, it looks like with casual riders:\n",
    "* **classic bikes** had the **highest ride lengths during March** *(second in May)*, and the **lowest in November** *(second in September)*\n",
    "* **electric bikes** had the **highest ride lengths during June** *(second in August)*, and the **lowest in January** *(second in February)*\n",
    "\n",
    "\n",
    "For annual members:\n",
    "\n",
    "* **classic bikes** had the **highest ride lengths during June** *(second in July)*, and the **lowest in December** *(second in February)*\n",
    "* **electric bikes** had the **highest ride lengths during August** *(second in June)*, and the **lowest in December** *(second in January)*\n",
    "\n",
    "<hr ***/>\n",
    "\n",
    "I found a few crossover months for usage amounts:\n",
    "\n",
    "* **electric bikes** for both casual riders and annual members were **both high in August and June**, and **low in January**\n",
    "* **classical bikes** didn't have any direct months matching, but the **closest months of high usage were May and June**, and for **low usage, the closest months were November and December**\n"
   ]
  },
  {
   "cell_type": "markdown",
   "metadata": {},
   "source": [
    "Now that we focused on dya todya behaviour, let's look at teh dataset iteself to see what proportion of our base represents our target demographic: casual riders who would be willing to upgrade to an annual membership.\n",
    "\n",
    "a few questions that arise are:\n",
    "\n",
    "* What is the unique count of members?\n",
    "* Are there any repeat customers?\n",
    "* What is the percentage of casual and annual members in this dataset?\n",
    "* Is the data skewed or biased to one member type?"
   ]
  },
  {
   "cell_type": "code",
   "execution_count": 80,
   "metadata": {},
   "outputs": [
    {
     "data": {
      "text/plain": [
       "member_casual\n",
       "casual    1\n",
       "member    1\n",
       "Name: member_casual, dtype: int64"
      ]
     },
     "execution_count": 80,
     "metadata": {},
     "output_type": "execute_result"
    }
   ],
   "source": [
    "all_trips.groupby('member_casual')['member_casual'].nunique()"
   ]
  },
  {
   "cell_type": "code",
   "execution_count": 88,
   "metadata": {},
   "outputs": [
    {
     "data": {
      "text/plain": [
       "member    3300875\n",
       "casual    2559816\n",
       "Name: member_casual, dtype: int64"
      ]
     },
     "execution_count": 88,
     "metadata": {},
     "output_type": "execute_result"
    }
   ],
   "source": [
    "all_trips['member_casual'].value_counts()"
   ]
  },
  {
   "cell_type": "code",
   "execution_count": 99,
   "metadata": {},
   "outputs": [
    {
     "name": "stdout",
     "output_type": "stream",
     "text": [
      "The percent value of casual members in this dataset is  0.43678 , or  43.678 % . \n"
     ]
    }
   ],
   "source": [
    "perc_cas = np.round((2559816 / (3300875 + 2559816)), 5)\n",
    "print(\"The percent value of casual members in this dataset is \" , perc_cas , \", or \", (perc_cas * 100) , \"% . \")"
   ]
  },
  {
   "cell_type": "code",
   "execution_count": 111,
   "metadata": {},
   "outputs": [
    {
     "name": "stdout",
     "output_type": "stream",
     "text": [
      "The percent value of annual members in this dataset is  0.56322 , or  56.322 % . \n"
     ]
    }
   ],
   "source": [
    "perc_an = np.round((3300875 / (3300875 + 2559816)), 5)\n",
    "print(\"The percent value of annual members in this dataset is \" , perc_an , \", or \", (perc_an * 100) , \"% . \")"
   ]
  },
  {
   "cell_type": "code",
   "execution_count": 112,
   "metadata": {},
   "outputs": [
    {
     "name": "stdout",
     "output_type": "stream",
     "text": [
      "                            member_casual\n",
      "                                    count\n",
      "member_casual rideable_type              \n",
      "casual        classic_bike        1236522\n",
      "              docked_bike          274442\n",
      "              electric_bike       1048852\n",
      "member        classic_bike        1981178\n",
      "              electric_bike       1319697\n"
     ]
    }
   ],
   "source": [
    "member_prop = all_trips.groupby(['member_casual','rideable_type']).agg({'member_casual': ['count']})\n",
    "# See the average ride time by each day for members vs casual users\n",
    "print(member_prop)"
   ]
  },
  {
   "cell_type": "code",
   "execution_count": 127,
   "metadata": {},
   "outputs": [
    {
     "name": "stdout",
     "output_type": "stream",
     "text": [
      "The percent value of casual members that ride classic bikes is  48.30511 % , in proportion to all casual riders, and  27.2064 % in propportion to all riders in the dataset\n",
      "-----------------------------------------------\n",
      "The percent value of casual members that ride electric bikes is  40.97373 % , in proportion to all casual riders, and  23.07722 % in propportion to all riders in the dataset\n",
      "-----------------------------------------------\n",
      "The percent value of casual members that ride docked bikes is  10.721160000000001 % , in proportion to all casual riders, and  6.03837 % in propportion to all riders in the dataset\n"
     ]
    }
   ],
   "source": [
    "perc_cas_clas1 = np.round((1236522 / (2559816)), 7)\n",
    "perc_cas_clas2 = np.round((perc_cas_clas1 * perc_cas), 7)\n",
    "print(\"The percent value of casual members that ride classic bikes is \" , (perc_cas_clas1 * 100) , \n",
    "      \"% , in proportion to all casual riders, and \", (perc_cas_clas2 * 100), \"% in propportion to all riders in the dataset\" )\n",
    "\n",
    "print(\"-----------------------------------------------\")\n",
    "\n",
    "perc_cas_elec1 = np.round((1048852 / (2559816)), 7)\n",
    "perc_cas_elec2 = np.round((perc_cas_elec1 * perc_cas), 7)\n",
    "print(\"The percent value of casual members that ride electric bikes is \" , (perc_cas_elec1 * 100) , \n",
    "      \"% , in proportion to all casual riders, and \", (perc_cas_elec2* 100), \"% in propportion to all riders in the dataset\" )\n",
    "\n",
    "print(\"-----------------------------------------------\")\n",
    "\n",
    "perc_cas_dock1 = np.round((274442 / (2559816)), 7)\n",
    "perc_cas_dock2 = np.round((perc_cas_dock1 * perc_cas), 7)\n",
    "print(\"The percent value of casual members that ride docked bikes is \" , (perc_cas_dock1 * 100) , \n",
    "      \"% , in proportion to all casual riders, and \", (perc_cas_dock2 * 100), \"% in propportion to all riders in the dataset\" )"
   ]
  },
  {
   "cell_type": "code",
   "execution_count": 128,
   "metadata": {},
   "outputs": [
    {
     "name": "stdout",
     "output_type": "stream",
     "text": [
      "The percent value of annual members that ride classic bikes is  60.01978 % , in proportion to all casual riders, and  33.804339999999996 % in propportion to all riders in the dataset\n",
      "-----------------------------------------------\n",
      "The percent value of annual members that ride electric bikes is  39.98022 % , in proportion to all casual riders, and  22.51766 % in propportion to all riders in the dataset\n"
     ]
    }
   ],
   "source": [
    "perc_an_clas1 = np.round((1981178 / (3300875)), 7)\n",
    "perc_an_clas2 = np.round((perc_an_clas1 * perc_an), 7)\n",
    "print(\"The percent value of annual members that ride classic bikes is \" , (perc_an_clas1 * 100) , \n",
    "      \"% , in proportion to all annual riders, and \", (perc_an_clas2 * 100), \"% in propportion to all riders in the dataset\" )\n",
    "\n",
    "print(\"-----------------------------------------------\")\n",
    "\n",
    "perc_an_elec1 = np.round((1319697 / (3300875)), 7)\n",
    "perc_an_elec2 = np.round((perc_an_elec1 * perc_an), 7)\n",
    "print(\"The percent value of annual members that ride electric bikes is \" , (perc_an_elec1 * 100) , \n",
    "      \"% , in proportion to all annual riders, and \", (perc_an_elec2* 100), \"% in propportion to all riders in the dataset\" )\n"
   ]
  },
  {
   "cell_type": "code",
   "execution_count": 129,
   "metadata": {},
   "outputs": [
    {
     "data": {
      "image/png": "[encoded data removed]",
      "text/plain": [
       "<Figure size 432x288 with 1 Axes>"
      ]
     },
     "metadata": {},
     "output_type": "display_data"
    }
   ],
   "source": [
    "bike_member_perc = [perc_cas_clas2, perc_an_clas2, perc_cas_elec2, perc_an_elec2, perc_cas_dock2]\n",
    "label=['casual classic', 'annual classic', 'casual electric', 'annual electric', 'casual docked']\n",
    "\n",
    "colors = sns.color_palette('colorblind')\n",
    "\n",
    "plt.pie(bike_member_perc, labels = label, colors = colors, autopct='%.0f%%')\n",
    "plt.show()"
   ]
  },
  {
   "cell_type": "markdown",
   "metadata": {},
   "source": [
    "From this, we can be reassured that:\n",
    "* The distribution of casual versus annual members was 50/50, so the data was not skewed in the way of counts. This was previously stated in the .describe() stated earlier \n",
    "* Electric bike usage was roughly the same for both annual and casual members\n",
    "* Classical bike usage was the highest with annual members, yet casual riders used classic bikes the most out of all bike types\n",
    "* docked bikes only made up a small percentage of all bikes used"
   ]
  },
  {
   "cell_type": "markdown",
   "metadata": {},
   "source": [
    "# Summary"
   ]
  },
  {
   "cell_type": "markdown",
   "metadata": {},
   "source": [
    "### From this analysis, we can conclude a few findings:\n",
    "\n",
    "#### Rider Behaviour\n",
    "* there is an **inverse relationship to the behaviours of casual and annual members during the week**. The **two most frequented days for casual members are Saturday and Sunday**, however, the two **most frequented days for annual members** happen to be **Tuesday and Wednesday**\n",
    "* **electric bikes** for both casual riders and annual members were **both high in August and June**, and **low in January**\n",
    "* **classical bikes** didn't have any direct months matching, but the **closest months of high usage were May and June**, and for **low usage, the closest months were November and December**\n",
    "\n",
    "\n",
    "#### Data Representation\n",
    "* The distribution of casual versus annual members was 50/50, so the data was not skewed in the way of counts\n",
    "* Electric bike usage was roughly the same for both annual and casual members\n",
    "* Classical bike usage was the highest with annual members, yet casual riders used classic bikes the most out of all bike types\n",
    "* docked bikes only made up a small percentage of all bikes used\n",
    "<hr */>\n",
    "* The percent value of **casual members that ride classic bikes is approx. 48 %**, in proportion to all casual riders\n",
    "* The percent value of **casual members that ride electric bikes is approx. 41 %** , in proportion to all casual riders\n",
    "* The percent value of **casual members that ride docked bikes is approx. 11 %** , in proportion to all casual riders.\n",
    "* The percent value of **annual members that ride classic bikes is approx. 60 %** , in proportion to all annual riders.\n",
    "* The percent value of **annual members that ride electric bikes is approx. 40 %** , in proportion to all annual riders."
   ]
  },
  {
   "cell_type": "code",
   "execution_count": null,
   "metadata": {},
   "outputs": [],
   "source": []
  }
 ],
 "metadata": {
  "kernelspec": {
   "display_name": "Python 3 (ipykernel)",
   "language": "python",
   "name": "python3"
  },
  "language_info": {
   "codemirror_mode": {
    "name": "ipython",
    "version": 3
   },
   "file_extension": ".py",
   "mimetype": "text/x-python",
   "name": "python",
   "nbconvert_exporter": "python",
   "pygments_lexer": "ipython3",
   "version": "3.7.6"
  }
 },
 "nbformat": 4,
 "nbformat_minor": 4
}
